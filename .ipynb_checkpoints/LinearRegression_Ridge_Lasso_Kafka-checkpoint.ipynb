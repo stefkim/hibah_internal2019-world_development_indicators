{
 "cells": [
  {
   "cell_type": "markdown",
   "metadata": {
    "colab_type": "text",
    "id": "9_zdQ6e-MD2K"
   },
   "source": [
    "## Importing from Google Drive"
   ]
  },
  {
   "cell_type": "code",
   "execution_count": 0,
   "metadata": {
    "colab": {},
    "colab_type": "code",
    "id": "IM29H75QJDiG"
   },
   "outputs": [],
   "source": [
    "# from google.colab import drive\n",
    "# from pandas import read_csv\n",
    "# from sklearn.model_selection import train_test_split\n",
    "# from matplotlib import pyplot as plt\n",
    "# import numpy as np\n",
    "# from pandas import read_pickle\n",
    "# import pickle\n",
    "\n",
    "# !pip install mglearn\n",
    "# drive.mount('/content/gdrive')\n",
    "# root_path = 'gdrive/My Drive/Colab Notebooks/dataset-and-dict/'\n",
    "\n",
    "# df_X = read_csv(root_path+'df_X_with_year_column.csv', header=0, index_col=0)\n",
    "# df_Y = read_csv(root_path+'df_Y_GDP_constant_2010_USD.csv', header=0, index_col=0)"
   ]
  },
  {
   "cell_type": "code",
   "execution_count": null,
   "metadata": {},
   "outputs": [],
   "source": [
    "from pandas import read_csv\n",
    "from sklearn.model_selection import train_test_split\n",
    "from matplotlib import pyplot as plt\n",
    "import numpy as np\n",
    "from pandas import read_pickle\n",
    "import pickle\n",
    "\n",
    "from pathlib import Path\n",
    "root_path = Path('gdrive/My Drive/Colab Notebooks/dataset-and-dict/')\n",
    "\n",
    "df_X = read_csv(root_path+'df_X_with_year_column.csv', header=0, index_col=0)\n",
    "df_Y = read_csv(root_path+'df_Y_GDP_constant_2010_USD.csv', header=0, index_col=0)"
   ]
  },
  {
   "cell_type": "markdown",
   "metadata": {
    "colab_type": "text",
    "id": "G5EdHaOWMnHS"
   },
   "source": [
    "## Linear Regression"
   ]
  },
  {
   "cell_type": "code",
   "execution_count": 0,
   "metadata": {
    "colab": {},
    "colab_type": "code",
    "id": "J446orGTlhvE"
   },
   "outputs": [],
   "source": [
    "from sklearn.linear_model import LinearRegression\n",
    "import mglearn\n",
    "\n",
    "X_train, X_test, y_train, y_test = train_test_split(df_X, df_Y, train_size=0.4)\n",
    "\n",
    "lr = LinearRegression().fit(X_train, y_train)\n",
    "  \n",
    "print(\"lr.intercept_: {}\".format(lr.intercept_))\n",
    "print(\"Training set score: {:.2f}\".format(lr.score(X_train, y_train)))\n",
    "print(\"Test set score: {:.2f}\".format(lr.score(X_test, y_test)))\n",
    "print(\"lr.coef_: {}\".format(lr.coef_))"
   ]
  },
  {
   "cell_type": "code",
   "execution_count": 0,
   "metadata": {
    "colab": {},
    "colab_type": "code",
    "id": "wQDdydyOkEvo"
   },
   "outputs": [],
   "source": [
    "pFile = read_pickle(root_path+\"code_to_name_dict_of_indicator_names.p\")"
   ]
  },
  {
   "cell_type": "code",
   "execution_count": 0,
   "metadata": {
    "colab": {},
    "colab_type": "code",
    "id": "DagNhi3ah9ST"
   },
   "outputs": [],
   "source": [
    "coefficient = lr.coef_"
   ]
  },
  {
   "cell_type": "code",
   "execution_count": 0,
   "metadata": {
    "colab": {},
    "colab_type": "code",
    "id": "jYsFDkTDiOQw"
   },
   "outputs": [],
   "source": [
    "type(coefficient)"
   ]
  },
  {
   "cell_type": "code",
   "execution_count": 0,
   "metadata": {
    "colab": {},
    "colab_type": "code",
    "id": "bEZqQ5UmiSQg"
   },
   "outputs": [],
   "source": [
    "coefficient.shape"
   ]
  },
  {
   "cell_type": "code",
   "execution_count": 0,
   "metadata": {
    "colab": {},
    "colab_type": "code",
    "id": "js_sZ9o5ibiN"
   },
   "outputs": [],
   "source": [
    "coef_transpose = coefficient.T"
   ]
  },
  {
   "cell_type": "code",
   "execution_count": 0,
   "metadata": {
    "colab": {},
    "colab_type": "code",
    "id": "3n4OQ6XPikhF"
   },
   "outputs": [],
   "source": [
    "coef_transpose.shape"
   ]
  },
  {
   "cell_type": "code",
   "execution_count": 0,
   "metadata": {
    "colab": {},
    "colab_type": "code",
    "id": "EBGusfB6i8fV"
   },
   "outputs": [],
   "source": [
    "indices = np.argsort(coef_transpose)[::-1]"
   ]
  },
  {
   "cell_type": "code",
   "execution_count": 0,
   "metadata": {
    "colab": {},
    "colab_type": "code",
    "id": "xN_y0jPQlA_x"
   },
   "outputs": [],
   "source": [
    "np.max(coef_transpose)"
   ]
  },
  {
   "cell_type": "code",
   "execution_count": 0,
   "metadata": {
    "colab": {},
    "colab_type": "code",
    "id": "hVUDdc6xjPx8"
   },
   "outputs": [],
   "source": [
    "print(\"Top 10 :\")\n",
    "for f in range(10):\n",
    "  print(\"%d. %s -> %f\" % (f+1, pFile[df_X.columns[f]], coef_transpose[indices[f]]))"
   ]
  },
  {
   "cell_type": "markdown",
   "metadata": {
    "colab_type": "text",
    "id": "R_kwJAXEM0LI"
   },
   "source": [
    "## Ridge Regression"
   ]
  },
  {
   "cell_type": "code",
   "execution_count": 0,
   "metadata": {
    "colab": {},
    "colab_type": "code",
    "id": "RFO40V8NLEK8"
   },
   "outputs": [],
   "source": [
    "from sklearn.linear_model import Ridge\n",
    "\n",
    "X_train, X_test, y_train, y_test = train_test_split(df_X, df_Y, train_size=0.25)\n",
    "\n",
    "ridge = Ridge().fit(X_train, y_train)\n",
    "\n",
    "print(\"Training set score: {:.2f}\".format(ridge.score(X_train, y_train)))\n",
    "print(\"Test set score: {:.2f}\".format(ridge.score(X_test, y_test)))"
   ]
  },
  {
   "cell_type": "markdown",
   "metadata": {
    "colab_type": "text",
    "id": "xQznIWkxM47b"
   },
   "source": [
    "## Lasso"
   ]
  },
  {
   "cell_type": "code",
   "execution_count": 0,
   "metadata": {
    "colab": {},
    "colab_type": "code",
    "id": "iSOgN3zxLdRj"
   },
   "outputs": [],
   "source": [
    "from sklearn.linear_model import Lasso\n",
    "import numpy as np\n",
    "\n",
    "X_train, X_test, y_train, y_test = train_test_split(df_X, df_Y, train_size=0.4)\n",
    "\n",
    "lasso = Lasso().fit(X_train, y_train)\n",
    "\n",
    "lasso001 = Lasso(alpha=0.0001, max_iter=100000).fit(X_train, y_train)\n",
    "\n",
    "print(\"Training set score: {:.2f}\".format(lasso001.score(X_train, y_train)))\n",
    "print(\"Test set score: {:.2f}\".format(lasso001.score(X_test, y_test)))\n",
    "print(\"Number of features used: {}\".format(np.sum(lasso001.coef_ != 0)))\n",
    "print(lasso.coef_)\n",
    "\n",
    "plt.plot(lasso.coef_, 's', label=\"Lasso alpha=1\")\n",
    "plt.plot(lasso001.coef_, '^', label=\"Lasso alpha=0.01\")\n",
    "plt.legend(ncol=2, loc=(0, 1.05))\n",
    "plt.ylim(-25, 25)\n",
    "plt.xlabel(\"Coefficient index\")\n",
    "plt.ylabel(\"Coefficient magnitude\")"
   ]
  },
  {
   "cell_type": "code",
   "execution_count": 0,
   "metadata": {
    "colab": {},
    "colab_type": "code",
    "id": "ditZ8HWilp9t"
   },
   "outputs": [],
   "source": [
    "lassoCoef1 = lasso.coef_\n",
    "lassoCoef2 = lasso001.coef_"
   ]
  },
  {
   "cell_type": "code",
   "execution_count": 0,
   "metadata": {
    "colab": {},
    "colab_type": "code",
    "id": "LFOL_yq3l-Bn"
   },
   "outputs": [],
   "source": [
    "lassoCoef2.shape"
   ]
  },
  {
   "cell_type": "code",
   "execution_count": 0,
   "metadata": {
    "colab": {},
    "colab_type": "code",
    "id": "7gKpZlALmOIq"
   },
   "outputs": [],
   "source": [
    "lassoCoef1Trans = lassoCoef1.T\n",
    "lassoCoef2Trans = lassoCoef2.T"
   ]
  },
  {
   "cell_type": "code",
   "execution_count": 0,
   "metadata": {
    "colab": {},
    "colab_type": "code",
    "id": "2T3wYzLGmbKw"
   },
   "outputs": [],
   "source": [
    "indices1 = np.argsort(lassoCoef1Trans)[::-1]\n",
    "indices2 = np.argsort(lassoCoef2Trans)[::-1]"
   ]
  },
  {
   "cell_type": "code",
   "execution_count": 0,
   "metadata": {
    "colab": {},
    "colab_type": "code",
    "id": "LkggZG0knMOD"
   },
   "outputs": [],
   "source": [
    "print(np.max(lassoCoef1Trans))\n",
    "print(np.max(lassoCoef2Trans))"
   ]
  },
  {
   "cell_type": "code",
   "execution_count": 0,
   "metadata": {
    "colab": {},
    "colab_type": "code",
    "id": "5aJti1-Jo_l5"
   },
   "outputs": [],
   "source": [
    "print(\"Top 10 Lasso 1:\")\n",
    "for f in range(10):\n",
    "  print(\"%d. %s -> %f\" % (f+1, pFile[df_X.columns[f]], lassoCoef1Trans[indices1[f]]))"
   ]
  },
  {
   "cell_type": "code",
   "execution_count": 0,
   "metadata": {
    "colab": {},
    "colab_type": "code",
    "id": "GBhgNqYWpb6D"
   },
   "outputs": [],
   "source": [
    "print(\"Top 10 Lasso 2:\")\n",
    "for f in range(10):\n",
    "  print(\"%d. %s -> %f\" % (f+1, pFile[df_X.columns[f]], lassoCoef2Trans[indices2[f]]))"
   ]
  }
 ],
 "metadata": {
  "colab": {
   "name": "LinearRegression_Ridge_Lasso-Kafka.ipynb",
   "provenance": []
  },
  "kernelspec": {
   "display_name": "Python 3",
   "language": "python",
   "name": "python3"
  },
  "language_info": {
   "codemirror_mode": {
    "name": "ipython",
    "version": 3
   },
   "file_extension": ".py",
   "mimetype": "text/x-python",
   "name": "python",
   "nbconvert_exporter": "python",
   "pygments_lexer": "ipython3",
   "version": "3.7.3"
  }
 },
 "nbformat": 4,
 "nbformat_minor": 1
}
